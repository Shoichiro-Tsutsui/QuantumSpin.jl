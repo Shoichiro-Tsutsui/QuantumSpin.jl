{
 "cells": [
  {
   "cell_type": "code",
   "execution_count": 3,
   "metadata": {},
   "outputs": [
    {
     "name": "stdout",
     "output_type": "stream",
     "text": [
      "Julia Version 1.5.0\n",
      "Commit 96786e22cc (2020-08-01 23:44 UTC)\n",
      "Platform Info:\n",
      "  OS: Windows (x86_64-w64-mingw32)\n",
      "  CPU: Intel(R) Core(TM) i7-7500U CPU @ 2.70GHz\n",
      "  WORD_SIZE: 64\n",
      "  LIBM: libopenlibm\n",
      "  LLVM: libLLVM-9.0.1 (ORCJIT, skylake)\n",
      "Environment:\n",
      "  JULIA_DEPOT_PATH = C:\\Users\\shopp\\.julia;C:\\Users\\shopp\\AppData\\Local\\JuliaPro-1.5.0-1\\Julia-1.5.0\\local\\share\\julia;C:\\Users\\shopp\\AppData\\Local\\JuliaPro-1.5.0-1\\Julia-1.5.0\\share\\julia\n",
      "  JULIA_PKG_SERVER = pkg.juliahub.com\n"
     ]
    }
   ],
   "source": [
    "using QuantumSpin\n",
    "versioninfo()"
   ]
  },
  {
   "cell_type": "markdown",
   "metadata": {},
   "source": [
    "# Tutorial"
   ]
  },
  {
   "cell_type": "markdown",
   "metadata": {},
   "source": [
    "We consider a quantum spin system whose hamiltonian is given by\n",
    "\n",
    "\\begin{align}\n",
    "H = \\sum_{i>j} \\left(\n",
    "    J^x_{ij} \\sigma_i^x \\sigma_j^x\n",
    "    + J^y_{ij} \\sigma_i^y \\sigma_j^y\n",
    "    + J^z_{ij} \\sigma_i^z \\sigma_j^z\n",
    "    \\right)\n",
    "    +\n",
    "    \\sum_{i} \\left(\n",
    "    Γ^x_i \\sigma_i^x\n",
    "    + Γ^y_i \\sigma_i^y\n",
    "    + Γ^z_i \\sigma_i^z\n",
    "    \\right).\n",
    "\\end{align}\n",
    "\n",
    "Note that the coefficients in spin-spin interaction term spedify not only the strength of the interaction but also the dimension and toplogy of the lattice.\n",
    "In the language of the graph theory, $J_{ij}^\\alpha$ is called [adjacency matrix](https://en.wikipedia.org/wiki/Adjacency_matrix).\n",
    "For instance, the adjacency matrix of the 1D chain with periodic boundary consition is given by \n",
    "\n",
    "\\begin{align}\n",
    "\\begin{bmatrix}\n",
    "0 &1  &  &  &  1\\\\\n",
    "1& 0 &1  &  &  \\\\\n",
    "&1  & 0 &1  &  \\\\\n",
    "&  & {\\ddots} & {\\ddots} &1  \\\\\n",
    "1&  &  & 1 & 0\n",
    "\\end{bmatrix}.\n",
    "\\end{align}\n",
    "\n",
    "In `QuantumSpin` package, several adjacency matrices are availabe:"
   ]
  },
  {
   "cell_type": "code",
   "execution_count": 5,
   "metadata": {},
   "outputs": [
    {
     "data": {
      "text/plain": [
       "4×4 Array{Int64,2}:\n",
       " 0  1  0  1\n",
       " 1  0  1  0\n",
       " 0  1  0  1\n",
       " 1  0  1  0"
      ]
     },
     "execution_count": 5,
     "metadata": {},
     "output_type": "execute_result"
    }
   ],
   "source": [
    "Achain = lattice(:chain, 4)"
   ]
  },
  {
   "cell_type": "code",
   "execution_count": 6,
   "metadata": {},
   "outputs": [
    {
     "data": {
      "text/plain": [
       "9×9 Array{Int64,2}:\n",
       " 0  1  1  1  0  0  1  0  0\n",
       " 1  0  1  0  1  0  0  1  0\n",
       " 1  1  0  0  0  1  0  0  1\n",
       " 1  0  0  0  1  1  1  0  0\n",
       " 0  1  0  1  0  1  0  1  0\n",
       " 0  0  1  1  1  0  0  0  1\n",
       " 1  0  0  1  0  0  0  1  1\n",
       " 0  1  0  0  1  0  1  0  1\n",
       " 0  0  1  0  0  1  1  1  0"
      ]
     },
     "execution_count": 6,
     "metadata": {},
     "output_type": "execute_result"
    }
   ],
   "source": [
    "A□ = lattice(:square, 9)"
   ]
  },
  {
   "cell_type": "markdown",
   "metadata": {},
   "source": [
    " Corresonding Ising Hamiltonian\n",
    " \n",
    "\\begin{align}\n",
    "H = \\sum_{<i,j>} \\sigma_i^z \\sigma_j^z.\n",
    "\\end{align}\n",
    "\n",
    "is obtained as"
   ]
  },
  {
   "cell_type": "code",
   "execution_count": 13,
   "metadata": {},
   "outputs": [
    {
     "data": {
      "text/plain": [
       "16×16 SparseArrays.SparseMatrixCSC{Complex{Float64},Int64} with 4 stored entries:\n",
       "  [1 ,  1]  =  4.0+0.0im\n",
       "  [6 ,  6]  =  -4.0+0.0im\n",
       "  [11, 11]  =  -4.0+0.0im\n",
       "  [16, 16]  =  4.0+0.0im"
      ]
     },
     "execution_count": 13,
     "metadata": {},
     "output_type": "execute_result"
    }
   ],
   "source": [
    "O = zeros(4,4)\n",
    "Ov = zeros(4)\n",
    "hamiltonian(O, O, Achain, Ov, Ov, Ov)"
   ]
  },
  {
   "cell_type": "code",
   "execution_count": 14,
   "metadata": {},
   "outputs": [
    {
     "data": {
      "text/plain": [
       "512×512 SparseArrays.SparseMatrixCSC{Complex{Float64},Int64} with 512 stored entries:\n",
       "  [1  ,   1]  =  18.0+0.0im\n",
       "  [2  ,   2]  =  10.0+0.0im\n",
       "  [3  ,   3]  =  10.0+0.0im\n",
       "  [4  ,   4]  =  6.0+0.0im\n",
       "  [5  ,   5]  =  10.0+0.0im\n",
       "  [6  ,   6]  =  6.0+0.0im\n",
       "  [7  ,   7]  =  6.0+0.0im\n",
       "  [8  ,   8]  =  6.0+0.0im\n",
       "  [9  ,   9]  =  10.0+0.0im\n",
       "  [10 ,  10]  =  6.0+0.0im\n",
       "  [11 ,  11]  =  2.0+0.0im\n",
       "  [12 ,  12]  =  2.0+0.0im\n",
       "  ⋮\n",
       "  [500, 500]  =  2.0+0.0im\n",
       "  [501, 501]  =  2.0+0.0im\n",
       "  [502, 502]  =  2.0+0.0im\n",
       "  [503, 503]  =  6.0+0.0im\n",
       "  [504, 504]  =  10.0+0.0im\n",
       "  [505, 505]  =  6.0+0.0im\n",
       "  [506, 506]  =  6.0+0.0im\n",
       "  [507, 507]  =  6.0+0.0im\n",
       "  [508, 508]  =  10.0+0.0im\n",
       "  [509, 509]  =  6.0+0.0im\n",
       "  [510, 510]  =  10.0+0.0im\n",
       "  [511, 511]  =  10.0+0.0im\n",
       "  [512, 512]  =  18.0+0.0im"
      ]
     },
     "execution_count": 14,
     "metadata": {},
     "output_type": "execute_result"
    }
   ],
   "source": [
    "O = zeros(9,9)\n",
    "Ov = zeros(9)\n",
    "hamiltonian(O, O, A□, Ov, Ov, Ov)"
   ]
  },
  {
   "cell_type": "markdown",
   "metadata": {},
   "source": [
    "Heisenberg chain under an longitudinal magnetic field \n",
    "\n",
    "\\begin{align}\n",
    "H = \\sum_{<i,j>} \\left(\n",
    "    J^x \\sigma_i^x \\sigma_j^x\n",
    "    + J^y \\sigma_i^y \\sigma_j^y\n",
    "    + J^z \\sigma_i^z \\sigma_j^z\n",
    "    \\right)\n",
    "    +\n",
    "    \\sum_{i} Γ^z \\sigma_i^z\n",
    "\\end{align}\n",
    "\n",
    "is given by"
   ]
  },
  {
   "cell_type": "code",
   "execution_count": 20,
   "metadata": {},
   "outputs": [
    {
     "data": {
      "text/plain": [
       "16×16 SparseArrays.SparseMatrixCSC{Complex{Float64},Int64} with 44 stored entries:\n",
       "  [1 ,  1]  =  6.0+0.0im\n",
       "  [2 ,  2]  =  2.0+0.0im\n",
       "  [3 ,  2]  =  2.0+0.0im\n",
       "  [9 ,  2]  =  2.0+0.0im\n",
       "  [2 ,  3]  =  2.0+0.0im\n",
       "  [3 ,  3]  =  2.0+0.0im\n",
       "  [5 ,  3]  =  2.0+0.0im\n",
       "  [6 ,  4]  =  2.0+0.0im\n",
       "  [11,  4]  =  2.0+0.0im\n",
       "  [3 ,  5]  =  2.0+0.0im\n",
       "  [5 ,  5]  =  2.0+0.0im\n",
       "  [9 ,  5]  =  2.0+0.0im\n",
       "  ⋮\n",
       "  [13, 11]  =  2.0+0.0im\n",
       "  [8 , 12]  =  2.0+0.0im\n",
       "  [12, 12]  =  -2.0+0.0im\n",
       "  [14, 12]  =  2.0+0.0im\n",
       "  [6 , 13]  =  2.0+0.0im\n",
       "  [11, 13]  =  2.0+0.0im\n",
       "  [12, 14]  =  2.0+0.0im\n",
       "  [14, 14]  =  -2.0+0.0im\n",
       "  [15, 14]  =  2.0+0.0im\n",
       "  [8 , 15]  =  2.0+0.0im\n",
       "  [14, 15]  =  2.0+0.0im\n",
       "  [15, 15]  =  -2.0+0.0im\n",
       "  [16, 16]  =  -2.0+0.0im"
      ]
     },
     "execution_count": 20,
     "metadata": {},
     "output_type": "execute_result"
    }
   ],
   "source": [
    "Jˣ, Jʸ, Jᶻ, Γᶻ = 1.0, 1.0, 0.5, 1.0\n",
    "ov = zeros(4)\n",
    "hamiltonian(Jˣ*Achain, Jʸ*Achain, Jᶻ*Achain, ov, ov, Γᶻ*ones(4))"
   ]
  },
  {
   "cell_type": "markdown",
   "metadata": {},
   "source": [
    "We note that the adjacency matrix must be symmetric, otherwise you will get an error:"
   ]
  },
  {
   "cell_type": "code",
   "execution_count": 15,
   "metadata": {},
   "outputs": [
    {
     "ename": "LoadError",
     "evalue": "AssertionError: The adjacency matrix must be symmetric.",
     "output_type": "error",
     "traceback": [
      "AssertionError: The adjacency matrix must be symmetric.",
      "",
      "Stacktrace:",
      " [1] spin_spin_interaction_term(::Array{Int64,2}, ::SparseArrays.SparseMatrixCSC{Complex{Float64},Int64}) at C:\\Users\\shopp\\Documents\\GitHub\\QuantumSpin.jl\\src\\operators.jl:33",
      " [2] hamiltonian(::Array{Float64,2}, ::Array{Float64,2}, ::Array{Int64,2}, ::Array{Float64,1}, ::Array{Float64,1}, ::Array{Float64,1}) at C:\\Users\\shopp\\Documents\\GitHub\\QuantumSpin.jl\\src\\operators.jl:64",
      " [3] top-level scope at In[15]:9",
      " [4] include_string(::Function, ::Module, ::String, ::String) at .\\loading.jl:1091"
     ]
    }
   ],
   "source": [
    "Acustom = [\n",
    "    0 1 1 1\n",
    "    1 0 0 0\n",
    "    0 0 0 0\n",
    "    0 1 0 0\n",
    "]\n",
    "O = zeros(4,4)\n",
    "Ov = zeros(4)\n",
    "hamiltonian(O, O, Acustom, Ov, Ov, Ov)"
   ]
  },
  {
   "cell_type": "code",
   "execution_count": null,
   "metadata": {
    "collapsed": true
   },
   "outputs": [],
   "source": []
  }
 ],
 "metadata": {
  "kernelspec": {
   "display_name": "Julia 1.5.3",
   "language": "julia",
   "name": "julia-1.5"
  },
  "language_info": {
   "file_extension": ".jl",
   "mimetype": "application/julia",
   "name": "julia",
   "version": "1.5.3"
  },
  "toc": {
   "nav_menu": {},
   "number_sections": true,
   "sideBar": true,
   "skip_h1_title": false,
   "toc_cell": false,
   "toc_position": {},
   "toc_section_display": "block",
   "toc_window_display": false
  }
 },
 "nbformat": 4,
 "nbformat_minor": 4
}
